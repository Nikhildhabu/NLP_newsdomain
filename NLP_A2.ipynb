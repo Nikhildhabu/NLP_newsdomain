{
  "nbformat": 4,
  "nbformat_minor": 0,
  "metadata": {
    "colab": {
      "name": "NLP_A2.ipynb",
      "provenance": [],
      "collapsed_sections": []
    },
    "kernelspec": {
      "name": "python3",
      "display_name": "Python 3"
    },
    "language_info": {
      "name": "python"
    },
    "accelerator": "GPU"
  },
  "cells": [
    {
      "cell_type": "code",
      "metadata": {
        "id": "tIitWUBd-kcs"
      },
      "source": [
        "from google.colab import files\n",
        "\n",
        "files.upload()"
      ],
      "execution_count": null,
      "outputs": []
    },
    {
      "cell_type": "code",
      "metadata": {
        "colab": {
          "base_uri": "https://localhost:8080/"
        },
        "id": "jk_lTlU5-Vqb",
        "outputId": "afa666cd-03ba-4d9f-ba5e-b26bf494ca62"
      },
      "source": [
        " ! mkdir ~/.kaggle\n",
        "\n",
        "! cp kaggle.json ~/.kaggle/"
      ],
      "execution_count": 14,
      "outputs": [
        {
          "output_type": "stream",
          "text": [
            "mkdir: cannot create directory ‘/root/.kaggle’: File exists\n"
          ],
          "name": "stdout"
        }
      ]
    },
    {
      "cell_type": "code",
      "metadata": {
        "id": "a8zi7Bjt-cNy"
      },
      "source": [
        " ! chmod 600 ~/.kaggle/kaggle.json"
      ],
      "execution_count": 16,
      "outputs": []
    },
    {
      "cell_type": "code",
      "metadata": {
        "colab": {
          "base_uri": "https://localhost:8080/"
        },
        "id": "a6SjsWO0-9AF",
        "outputId": "9120c178-9a64-4a39-a371-39129e8efdf7"
      },
      "source": [
        " ! kaggle datasets list"
      ],
      "execution_count": 17,
      "outputs": [
        {
          "output_type": "stream",
          "text": [
            "Warning: Looks like you're using an outdated API Version, please consider updating (server 1.5.12 / client 1.5.4)\n",
            "ref                                                         title                                              size  lastUpdated          downloadCount  \n",
            "----------------------------------------------------------  ------------------------------------------------  -----  -------------------  -------------  \n",
            "gpreda/reddit-vaccine-myths                                 Reddit Vaccine Myths                              229KB  2021-06-01 11:18:46           6980  \n",
            "crowww/a-large-scale-fish-dataset                           A Large Scale Fish Dataset                          3GB  2021-04-28 17:03:01           4191  \n",
            "imsparsh/musicnet-dataset                                   MusicNet Dataset                                   22GB  2021-02-18 14:12:19           1393  \n",
            "dhruvildave/wikibooks-dataset                               Wikibooks Dataset                                   1GB  2021-02-18 10:08:27           2157  \n",
            "mathurinache/twitter-edge-nodes                             Twitter Edge Nodes                                342MB  2021-03-08 06:43:04            468  \n",
            "fatiimaezzahra/famous-iconic-women                          Famous Iconic Women                               838MB  2021-02-28 14:56:00            704  \n",
            "promptcloud/careerbuilder-job-listing-2020                  Careerbuilder Job Listing 2020                     42MB  2021-03-05 06:59:52            998  \n",
            "alsgroup/end-als                                            End ALS Kaggle Challenge                           12GB  2021-04-08 12:16:37            703  \n",
            "coloradokb/dandelionimages                                  DandelionImages                                     4GB  2021-02-19 20:03:47            420  \n",
            "nickuzmenkov/nih-chest-xrays-tfrecords                      NIH Chest X-rays TFRecords                         11GB  2021-03-09 04:49:23            558  \n",
            "simiotic/github-code-snippets                               GitHub Code Snippets                                7GB  2021-03-03 11:34:39            146  \n",
            "mathurinache/the-lj-speech-dataset                          The LJ Speech Dataset                               3GB  2021-02-15 09:19:54            172  \n",
            "stuartjames/lights                                          LightS: Light Specularity Dataset                  18GB  2021-02-18 14:32:26             67  \n",
            "landrykezebou/lvzhdr-tone-mapping-benchmark-dataset-tmonet  LVZ-HDR Tone Mapping Benchmark Dataset (TMO-Net)   24GB  2021-03-01 05:03:40             84  \n",
            "nickuzmenkov/ranzcr-clip-kfold-tfrecords                    RANZCR CLiP KFold TFRecords                         2GB  2021-02-21 13:29:51             82  \n",
            "imsparsh/accentdb-core-extended                             AccentDB - Core & Extended                          6GB  2021-02-17 14:22:54             79  \n",
            "datasnaek/youtube-new                                       Trending YouTube Video Statistics                 201MB  2019-06-03 00:56:47         141842  \n",
            "zynicide/wine-reviews                                       Wine Reviews                                       51MB  2017-11-27 17:08:04         137928  \n",
            "residentmario/ramen-ratings                                 Ramen Ratings                                      40KB  2018-01-11 16:04:39          23708  \n",
            "datasnaek/chess                                             Chess Game Dataset (Lichess)                        3MB  2017-09-04 03:09:09          18979  \n"
          ],
          "name": "stdout"
        }
      ]
    },
    {
      "cell_type": "code",
      "metadata": {
        "colab": {
          "base_uri": "https://localhost:8080/"
        },
        "id": "SQxKItTs9akd",
        "outputId": "5405f944-41d8-40b6-bf11-9941457ec9a7"
      },
      "source": [
        "!kaggle datasets download -d therohk/million-headlines"
      ],
      "execution_count": 18,
      "outputs": [
        {
          "output_type": "stream",
          "text": [
            "Downloading million-headlines.zip to /content\n",
            " 81% 17.0M/21.1M [00:00<00:00, 52.3MB/s]\n",
            "100% 21.1M/21.1M [00:00<00:00, 83.5MB/s]\n"
          ],
          "name": "stdout"
        }
      ]
    },
    {
      "cell_type": "code",
      "metadata": {
        "colab": {
          "base_uri": "https://localhost:8080/"
        },
        "id": "B5QNIPOo-G4s",
        "outputId": "c629d700-4752-4405-ca2e-839ee09e935a"
      },
      "source": [
        "!unzip /content/million-headlines.zip"
      ],
      "execution_count": 19,
      "outputs": [
        {
          "output_type": "stream",
          "text": [
            "Archive:  /content/million-headlines.zip\n",
            "  inflating: abcnews-date-text.csv   \n"
          ],
          "name": "stdout"
        }
      ]
    },
    {
      "cell_type": "code",
      "metadata": {
        "id": "zolJl_12CfhL"
      },
      "source": [
        "import pandas as pd\n",
        "npr=pd.read_csv(\"/content/abcnews-date-text.csv\",sep=',')"
      ],
      "execution_count": 20,
      "outputs": []
    },
    {
      "cell_type": "code",
      "metadata": {
        "colab": {
          "base_uri": "https://localhost:8080/",
          "height": 205
        },
        "id": "kdOFmGgqHJQg",
        "outputId": "fea43464-6002-4802-819c-023a1709df4a"
      },
      "source": [
        "npr.head()"
      ],
      "execution_count": 21,
      "outputs": [
        {
          "output_type": "execute_result",
          "data": {
            "text/html": [
              "<div>\n",
              "<style scoped>\n",
              "    .dataframe tbody tr th:only-of-type {\n",
              "        vertical-align: middle;\n",
              "    }\n",
              "\n",
              "    .dataframe tbody tr th {\n",
              "        vertical-align: top;\n",
              "    }\n",
              "\n",
              "    .dataframe thead th {\n",
              "        text-align: right;\n",
              "    }\n",
              "</style>\n",
              "<table border=\"1\" class=\"dataframe\">\n",
              "  <thead>\n",
              "    <tr style=\"text-align: right;\">\n",
              "      <th></th>\n",
              "      <th>publish_date</th>\n",
              "      <th>headline_text</th>\n",
              "    </tr>\n",
              "  </thead>\n",
              "  <tbody>\n",
              "    <tr>\n",
              "      <th>0</th>\n",
              "      <td>20030219</td>\n",
              "      <td>aba decides against community broadcasting lic...</td>\n",
              "    </tr>\n",
              "    <tr>\n",
              "      <th>1</th>\n",
              "      <td>20030219</td>\n",
              "      <td>act fire witnesses must be aware of defamation</td>\n",
              "    </tr>\n",
              "    <tr>\n",
              "      <th>2</th>\n",
              "      <td>20030219</td>\n",
              "      <td>a g calls for infrastructure protection summit</td>\n",
              "    </tr>\n",
              "    <tr>\n",
              "      <th>3</th>\n",
              "      <td>20030219</td>\n",
              "      <td>air nz staff in aust strike for pay rise</td>\n",
              "    </tr>\n",
              "    <tr>\n",
              "      <th>4</th>\n",
              "      <td>20030219</td>\n",
              "      <td>air nz strike to affect australian travellers</td>\n",
              "    </tr>\n",
              "  </tbody>\n",
              "</table>\n",
              "</div>"
            ],
            "text/plain": [
              "   publish_date                                      headline_text\n",
              "0      20030219  aba decides against community broadcasting lic...\n",
              "1      20030219     act fire witnesses must be aware of defamation\n",
              "2      20030219     a g calls for infrastructure protection summit\n",
              "3      20030219           air nz staff in aust strike for pay rise\n",
              "4      20030219      air nz strike to affect australian travellers"
            ]
          },
          "metadata": {
            "tags": []
          },
          "execution_count": 21
        }
      ]
    },
    {
      "cell_type": "code",
      "metadata": {
        "colab": {
          "base_uri": "https://localhost:8080/"
        },
        "id": "wVDXfplMHMf8",
        "outputId": "c4b647c7-b7f2-4bf5-b4b9-96736a729ab8"
      },
      "source": [
        "len(npr)"
      ],
      "execution_count": 25,
      "outputs": [
        {
          "output_type": "execute_result",
          "data": {
            "text/plain": [
              "1226258"
            ]
          },
          "metadata": {
            "tags": []
          },
          "execution_count": 25
        }
      ]
    },
    {
      "cell_type": "code",
      "metadata": {
        "colab": {
          "base_uri": "https://localhost:8080/"
        },
        "id": "gI_ILYQjHO3u",
        "outputId": "1af1ec6d-9c25-4da6-9cbe-62843e6b062e"
      },
      "source": [
        "print(npr.shape)"
      ],
      "execution_count": null,
      "outputs": [
        {
          "output_type": "stream",
          "text": [
            "(1103663, 2)\n"
          ],
          "name": "stdout"
        }
      ]
    },
    {
      "cell_type": "code",
      "metadata": {
        "colab": {
          "base_uri": "https://localhost:8080/",
          "height": 35
        },
        "id": "HYsRJSMfHSKf",
        "outputId": "34d577f7-8664-4f12-9e5e-61f384fcd072"
      },
      "source": [
        "npr['headline_text'][0]"
      ],
      "execution_count": 26,
      "outputs": [
        {
          "output_type": "execute_result",
          "data": {
            "application/vnd.google.colaboratory.intrinsic+json": {
              "type": "string"
            },
            "text/plain": [
              "'aba decides against community broadcasting licence'"
            ]
          },
          "metadata": {
            "tags": []
          },
          "execution_count": 26
        }
      ]
    },
    {
      "cell_type": "code",
      "metadata": {
        "id": "6bIb4rFsHZsV"
      },
      "source": [
        "from sklearn.feature_extraction.text import CountVectorizer\n",
        "cv=CountVectorizer(max_df=0.92,min_df=2,max_features=1000,ngram_range=(1,2),lowercase=True,stop_words='english')"
      ],
      "execution_count": 27,
      "outputs": []
    },
    {
      "cell_type": "code",
      "metadata": {
        "colab": {
          "base_uri": "https://localhost:8080/"
        },
        "id": "2NUf-ncV_wTl",
        "outputId": "03ab3efc-d939-4931-9032-05d0df9102cc"
      },
      "source": [
        "cv"
      ],
      "execution_count": 28,
      "outputs": [
        {
          "output_type": "execute_result",
          "data": {
            "text/plain": [
              "CountVectorizer(analyzer='word', binary=False, decode_error='strict',\n",
              "                dtype=<class 'numpy.int64'>, encoding='utf-8', input='content',\n",
              "                lowercase=True, max_df=0.92, max_features=1000, min_df=2,\n",
              "                ngram_range=(1, 2), preprocessor=None, stop_words='english',\n",
              "                strip_accents=None, token_pattern='(?u)\\\\b\\\\w\\\\w+\\\\b',\n",
              "                tokenizer=None, vocabulary=None)"
            ]
          },
          "metadata": {
            "tags": []
          },
          "execution_count": 28
        }
      ]
    },
    {
      "cell_type": "code",
      "metadata": {
        "id": "pkWU4GFtH36r"
      },
      "source": [
        "dtm=cv.fit_transform(npr[\"headline_text\"])"
      ],
      "execution_count": 29,
      "outputs": []
    },
    {
      "cell_type": "code",
      "metadata": {
        "colab": {
          "base_uri": "https://localhost:8080/"
        },
        "id": "Ue5BQCl4JVpt",
        "outputId": "44d0bff4-4784-4bd0-f6ca-29fc823f1ded"
      },
      "source": [
        "dtm"
      ],
      "execution_count": 30,
      "outputs": [
        {
          "output_type": "execute_result",
          "data": {
            "text/plain": [
              "<1226258x1000 sparse matrix of type '<class 'numpy.int64'>'\n",
              "\twith 3181594 stored elements in Compressed Sparse Row format>"
            ]
          },
          "metadata": {
            "tags": []
          },
          "execution_count": 30
        }
      ]
    },
    {
      "cell_type": "code",
      "metadata": {
        "id": "CWPD3BFiIG-k"
      },
      "source": [
        "from sklearn.decomposition import LatentDirichletAllocation"
      ],
      "execution_count": 31,
      "outputs": []
    },
    {
      "cell_type": "code",
      "metadata": {
        "id": "alHSxXMmIfIA"
      },
      "source": [
        "lda=LatentDirichletAllocation(n_components=5,random_state=42)"
      ],
      "execution_count": 32,
      "outputs": []
    },
    {
      "cell_type": "code",
      "metadata": {
        "colab": {
          "base_uri": "https://localhost:8080/"
        },
        "id": "T-oRDK23Ipvz",
        "outputId": "567586de-e37c-4afb-9588-a611b863b1f9"
      },
      "source": [
        "lda.fit(dtm)"
      ],
      "execution_count": 33,
      "outputs": [
        {
          "output_type": "execute_result",
          "data": {
            "text/plain": [
              "LatentDirichletAllocation(batch_size=128, doc_topic_prior=None,\n",
              "                          evaluate_every=-1, learning_decay=0.7,\n",
              "                          learning_method='batch', learning_offset=10.0,\n",
              "                          max_doc_update_iter=100, max_iter=10,\n",
              "                          mean_change_tol=0.001, n_components=5, n_jobs=None,\n",
              "                          perp_tol=0.1, random_state=42, topic_word_prior=None,\n",
              "                          total_samples=1000000.0, verbose=0)"
            ]
          },
          "metadata": {
            "tags": []
          },
          "execution_count": 33
        }
      ]
    },
    {
      "cell_type": "code",
      "metadata": {
        "colab": {
          "base_uri": "https://localhost:8080/"
        },
        "id": "7mARETKHIzWR",
        "outputId": "f900de02-a8a2-4eb7-b972-2c8bb40abd18"
      },
      "source": [
        "len(cv.get_feature_names())"
      ],
      "execution_count": 37,
      "outputs": [
        {
          "output_type": "execute_result",
          "data": {
            "text/plain": [
              "1000"
            ]
          },
          "metadata": {
            "tags": []
          },
          "execution_count": 37
        }
      ]
    },
    {
      "cell_type": "code",
      "metadata": {
        "colab": {
          "base_uri": "https://localhost:8080/"
        },
        "id": "Ih6DDiv2I6tU",
        "outputId": "ed0d32ee-56d1-4b74-acbe-d0608cd0e29c"
      },
      "source": [
        "type(cv.get_feature_names())"
      ],
      "execution_count": 38,
      "outputs": [
        {
          "output_type": "execute_result",
          "data": {
            "text/plain": [
              "list"
            ]
          },
          "metadata": {
            "tags": []
          },
          "execution_count": 38
        }
      ]
    },
    {
      "cell_type": "code",
      "metadata": {
        "colab": {
          "base_uri": "https://localhost:8080/"
        },
        "id": "t8OoDwxxI_lo",
        "outputId": "568e6649-e1ad-4508-8128-4120759d8adc"
      },
      "source": [
        "import random\n",
        "for i in range(10):\n",
        "  random_word_id=random.randint(0,1000)\n",
        "  print(cv.get_feature_names()[random_word_id])"
      ],
      "execution_count": 39,
      "outputs": [
        {
          "output_type": "stream",
          "text": [
            "plans\n",
            "goes\n",
            "years\n",
            "charge\n",
            "blaze\n",
            "coast\n",
            "boost\n",
            "12\n",
            "economy\n",
            "tourist\n"
          ],
          "name": "stdout"
        }
      ]
    },
    {
      "cell_type": "code",
      "metadata": {
        "id": "DJuGtEJaJnhG"
      },
      "source": [
        "# Showing top words in the topic"
      ],
      "execution_count": 40,
      "outputs": []
    },
    {
      "cell_type": "code",
      "metadata": {
        "colab": {
          "base_uri": "https://localhost:8080/"
        },
        "id": "P50cAXJuJ-Un",
        "outputId": "44d840c2-edf7-471f-c5aa-5a545b74417a"
      },
      "source": [
        "len(lda.components_)"
      ],
      "execution_count": 41,
      "outputs": [
        {
          "output_type": "execute_result",
          "data": {
            "text/plain": [
              "5"
            ]
          },
          "metadata": {
            "tags": []
          },
          "execution_count": 41
        }
      ]
    },
    {
      "cell_type": "code",
      "metadata": {
        "colab": {
          "base_uri": "https://localhost:8080/"
        },
        "id": "v62-gFnKKGMq",
        "outputId": "8c6bcc0e-f9b6-4b46-8bf5-6c1272b9ad91"
      },
      "source": [
        "lda.components_.shape"
      ],
      "execution_count": 42,
      "outputs": [
        {
          "output_type": "execute_result",
          "data": {
            "text/plain": [
              "(5, 1000)"
            ]
          },
          "metadata": {
            "tags": []
          },
          "execution_count": 42
        }
      ]
    },
    {
      "cell_type": "code",
      "metadata": {
        "colab": {
          "base_uri": "https://localhost:8080/"
        },
        "id": "dWUO7QwMKKQn",
        "outputId": "d935a7a9-89c9-46a8-cee2-4e2db79b52e7"
      },
      "source": [
        "lda.components_"
      ],
      "execution_count": 43,
      "outputs": [
        {
          "output_type": "execute_result",
          "data": {
            "text/plain": [
              "array([[2.01020598e-01, 3.98656920e-01, 2.01192880e-01, ...,\n",
              "        2.01664732e+00, 1.58692287e+00, 2.00600251e-01],\n",
              "       [3.58260800e+00, 2.08495361e+01, 1.07498849e+02, ...,\n",
              "        2.61477616e-01, 1.11710138e+03, 2.00227832e-01],\n",
              "       [2.01783994e-01, 1.25815282e+01, 2.09263625e+02, ...,\n",
              "        2.06144863e+03, 1.11670043e+03, 2.00827535e-01],\n",
              "       [2.06962493e-01, 4.30838399e+02, 8.13781007e+02, ...,\n",
              "        3.78616019e+02, 2.20879303e-01, 1.63719753e+03],\n",
              "       [2.37280762e+03, 8.52331880e+02, 2.08255326e+02, ...,\n",
              "        9.34657227e+02, 6.15390381e+02, 2.00811212e-01]])"
            ]
          },
          "metadata": {
            "tags": []
          },
          "execution_count": 43
        }
      ]
    },
    {
      "cell_type": "code",
      "metadata": {
        "colab": {
          "base_uri": "https://localhost:8080/"
        },
        "id": "Q_v67O2IKOFZ",
        "outputId": "500ad562-ee58-4114-beb5-5341705e4306"
      },
      "source": [
        "len(lda.components_[0])"
      ],
      "execution_count": 44,
      "outputs": [
        {
          "output_type": "execute_result",
          "data": {
            "text/plain": [
              "1000"
            ]
          },
          "metadata": {
            "tags": []
          },
          "execution_count": 44
        }
      ]
    },
    {
      "cell_type": "code",
      "metadata": {
        "id": "vFVrik6AKOCK"
      },
      "source": [
        "single_topic=lda.components_[0]"
      ],
      "execution_count": 45,
      "outputs": []
    },
    {
      "cell_type": "code",
      "metadata": {
        "colab": {
          "base_uri": "https://localhost:8080/"
        },
        "id": "ZsbptxzXKN_f",
        "outputId": "afe21621-9920-4027-a473-b84e590d1862"
      },
      "source": [
        "single_topic.argsort()"
      ],
      "execution_count": 46,
      "outputs": [
        {
          "output_type": "execute_result",
          "data": {
            "text/plain": [
              "array([202, 575, 753, 640, 151, 967, 923, 534, 300, 532, 380, 893, 274,\n",
              "       421, 646, 562, 388, 647, 350, 828, 259, 747,  56, 205,  77, 780,\n",
              "        25, 551, 826, 486, 146,  70, 789, 791,   4, 373,  51, 639, 550,\n",
              "        24, 779, 104, 458, 325, 218, 443, 999, 582, 781, 377, 379, 447,\n",
              "        36, 570, 111,  15, 788,  10, 533, 798, 258,  94,  12, 204, 164,\n",
              "       347, 233,  47, 601, 470,  43, 746, 261, 825, 821, 150,  50, 572,\n",
              "       128, 267, 694, 201, 689, 944,  21, 195, 338, 476, 132, 812, 813,\n",
              "       471, 946, 272,  44,  20, 584, 849, 156, 406, 176, 950, 604,   0,\n",
              "       894, 360, 920,  68, 203, 260, 901, 602, 110, 228, 918, 455,  19,\n",
              "       313, 478,  14, 512, 772, 116,  66,  65, 328, 995, 269, 372, 475,\n",
              "       725, 831,   2, 435, 853, 133, 897, 663, 548, 882, 628, 434, 265,\n",
              "       667, 540,  76,  11, 408, 431, 890, 159,  90, 886, 676, 662, 982,\n",
              "       979, 688,   6, 976, 910, 565, 752, 968, 257, 145, 519, 683, 314,\n",
              "       430, 801,  92, 862, 654,   7,  78, 996, 329, 760, 919, 625, 444,\n",
              "       239, 206, 879, 396, 904, 778,  75, 441,  62, 536, 948, 424, 902,\n",
              "       488, 425, 395, 481, 750, 687, 194, 771, 630, 358, 411, 163, 626,\n",
              "         3, 474, 333, 742, 308, 822, 712, 614, 785,  91, 666, 216, 629,\n",
              "       238, 275, 158, 697, 929, 786, 585, 978, 555, 700,  82, 467, 766,\n",
              "       185, 866, 392, 495, 673, 490, 922, 735, 649, 718, 989, 501, 296,\n",
              "       819, 457, 641, 695, 506, 418, 521,  16, 109, 285, 213, 407, 326,\n",
              "       438, 820, 112, 371, 863, 381, 564, 776,  49,  95, 885, 250, 119,\n",
              "       932, 573, 410, 759, 398, 854, 282, 539, 692, 633, 349, 755, 847,\n",
              "       620, 169, 680, 352,  83, 980, 334, 234, 900, 405, 838, 969, 230,\n",
              "       487,  61, 870, 135, 127, 834, 393, 523, 115, 511, 851, 659, 292,\n",
              "        22, 833, 155, 768, 301, 242,   9, 627, 777, 617, 961, 861, 726,\n",
              "       452, 708, 302, 491, 310, 848,  86, 899,  85, 845, 817, 799, 912,\n",
              "       253, 363, 122,   5,  48, 414, 593, 174, 142, 934, 225, 541,  87,\n",
              "       793, 170, 117, 619, 450, 436, 387, 419, 497, 787, 846, 332, 898,\n",
              "       391, 877, 224, 337, 706, 370, 710, 875, 496, 499, 764, 345, 412,\n",
              "       681, 665, 567, 765, 773, 517, 754, 369, 927, 928, 784, 988, 609,\n",
              "       520, 480, 417, 860, 323, 449, 226, 544, 738, 888, 209, 102, 469,\n",
              "       940, 305, 500, 303,   8, 304, 143, 651, 210, 696,  58, 916, 671,\n",
              "        54, 298, 715, 858, 344, 498, 732, 244, 320,  93, 839,  57, 477,\n",
              "       661, 829, 872, 911, 981, 138, 290, 807, 621,  84, 147, 743, 867,\n",
              "       456, 346,  30, 724, 549, 152, 744, 843, 939, 423, 514, 889, 578,\n",
              "       720, 941, 751, 236, 324, 193, 574, 790, 598, 198, 880, 642, 364,\n",
              "       207, 530, 299, 583, 183, 374, 448, 214, 800, 686, 502, 141, 289,\n",
              "       167, 343, 165, 672, 321, 492, 705,   1, 616,  27, 678, 134, 461,\n",
              "       307, 522, 864, 463, 873, 966, 504, 278, 178, 508, 422, 962, 531,\n",
              "       592, 538, 114, 566, 247, 942, 404, 707, 947, 288, 921, 737, 451,\n",
              "       268, 120, 852, 402, 734, 439, 652, 283, 505, 375, 607, 878, 703,\n",
              "       376, 767, 348, 157,  79,  23, 556, 657, 286, 717,  13, 389, 622,\n",
              "       739, 729, 318, 577,  59, 107, 664, 841, 187, 552, 148, 595, 714,\n",
              "       571, 844, 263, 931, 390, 728, 124, 998, 736, 560, 331, 685,  88,\n",
              "       189, 997, 255, 121, 161, 306, 599, 437, 284, 479, 354, 956,  60,\n",
              "       733, 884, 489, 173, 200, 933, 420, 985, 394, 542,  67, 615, 903,\n",
              "       240, 937, 635, 276, 182, 896, 149, 232, 913, 243, 761, 144,  71,\n",
              "       460, 433, 401, 563,  97,  42, 264,  80, 231, 871, 175, 525, 399,\n",
              "       856, 237, 365, 359, 830, 123, 606, 643, 136, 212, 679, 103, 229,\n",
              "       383, 984, 816, 413, 960, 245, 632, 876, 782,  46, 634, 177, 636,\n",
              "       797, 675, 990, 464, 327,  18, 545, 926, 547, 526, 748, 397,  33,\n",
              "       698, 983, 101, 974, 196, 503, 485,  38,  41, 869, 581, 367, 957,\n",
              "       262, 546, 295, 126, 836, 716, 118, 795, 277, 684, 638, 266, 868,\n",
              "       986, 624, 342, 644, 249, 701, 280, 971, 774, 453, 769,  32, 991,\n",
              "       403, 908,  26, 569, 524, 600, 368, 924, 881, 322, 805,  74, 745,\n",
              "       653, 465, 906, 824, 719, 731, 279, 105,  31,  99, 613, 723, 796,\n",
              "       559, 645, 936, 241, 576, 972, 693, 949, 597,  37, 749, 291, 385,\n",
              "       357, 366, 153,  64, 221, 211, 154, 188, 528, 311, 466, 190, 429,\n",
              "       943, 537, 977, 975, 106, 994,  17, 914, 909, 965, 953, 783, 612,\n",
              "       952, 925, 400, 459, 814, 197,  98, 137, 818, 758, 254, 802, 623,\n",
              "       516, 938, 179, 171, 180, 440, 580, 281, 340, 907, 656, 416,  73,\n",
              "       361, 362, 905, 855, 140,  28, 650, 428,  29, 356, 959, 493, 794,\n",
              "       294, 273, 336, 808, 513,  81, 579, 806,  34, 832, 917, 887, 608,\n",
              "       445, 589, 669,  55, 803, 270, 618, 527, 415, 823, 168, 339,  53,\n",
              "        40, 509, 130, 181, 353,  45, 740, 655, 741, 215, 915, 554, 865,\n",
              "       775, 472, 192, 840, 351, 605, 172, 809, 883, 792, 426, 248, 704,\n",
              "       535, 162, 468, 557, 963,  39, 287, 859, 713, 610, 811, 677, 756,\n",
              "       409, 594, 309, 139, 510, 810, 596, 293, 587, 251, 827, 857, 315,\n",
              "       892, 160, 184, 709, 208,  96, 970, 256, 757, 384, 483, 935, 378,\n",
              "       515, 518, 166, 316, 837, 100, 223, 945, 670, 954, 454, 252, 473,\n",
              "       484, 590, 637, 727, 432, 804, 186, 297, 131, 125,  35,  72, 611,\n",
              "       668, 442, 222, 660, 674, 711, 330, 955, 227, 386, 553, 658,  63,\n",
              "       507, 958, 427, 699, 648, 951, 702, 246, 588, 603, 108, 317,  52,\n",
              "       482, 721, 235, 591,  89, 891, 850, 993, 341, 219, 987, 271, 730,\n",
              "       815, 842, 529, 543, 690, 382, 964, 895, 199, 462, 355, 191, 335,\n",
              "       220, 558, 691, 494,  69, 762, 874, 835, 930, 722, 319, 770, 113,\n",
              "       973, 682, 568, 312, 217, 561, 586, 129, 992, 631, 446, 763])"
            ]
          },
          "metadata": {
            "tags": []
          },
          "execution_count": 46
        }
      ]
    },
    {
      "cell_type": "code",
      "metadata": {
        "colab": {
          "base_uri": "https://localhost:8080/"
        },
        "id": "1AtpRjwjKzaj",
        "outputId": "07d8fb16-cc6a-4c9e-a9eb-5b664404f35d"
      },
      "source": [
        "# word least represented\n",
        "single_topic[205]"
      ],
      "execution_count": 47,
      "outputs": [
        {
          "output_type": "execute_result",
          "data": {
            "text/plain": [
              "0.2003664513341731"
            ]
          },
          "metadata": {
            "tags": []
          },
          "execution_count": 47
        }
      ]
    },
    {
      "cell_type": "code",
      "metadata": {
        "colab": {
          "base_uri": "https://localhost:8080/"
        },
        "id": "uSZORTYUKN9C",
        "outputId": "80f73dd5-a470-4737-df16-bcefa0951832"
      },
      "source": [
        "#word most represented\n",
        "single_topic[63]"
      ],
      "execution_count": 48,
      "outputs": [
        {
          "output_type": "execute_result",
          "data": {
            "text/plain": [
              "2611.1382671516512"
            ]
          },
          "metadata": {
            "tags": []
          },
          "execution_count": 48
        }
      ]
    },
    {
      "cell_type": "code",
      "metadata": {
        "colab": {
          "base_uri": "https://localhost:8080/"
        },
        "id": "FkFgnV15KK_N",
        "outputId": "a0e4e88f-b7e0-4da4-abb8-b8a37ce45d79"
      },
      "source": [
        "#Top 10 words\n",
        "single_topic.argsort()[-10:]\n",
        "top_word_indices=single_topic.argsort()[-10:]\n",
        "for index in top_word_indices:\n",
        "  print(cv.get_feature_names()[index])"
      ],
      "execution_count": 49,
      "outputs": [
        {
          "output_type": "stream",
          "text": [
            "mp\n",
            "farmers\n",
            "cup\n",
            "missing\n",
            "north\n",
            "car\n",
            "world\n",
            "plan\n",
            "interview\n",
            "says\n"
          ],
          "name": "stdout"
        }
      ]
    },
    {
      "cell_type": "code",
      "metadata": {
        "colab": {
          "base_uri": "https://localhost:8080/"
        },
        "id": "j7ENxUhfLqLA",
        "outputId": "9d4f901c-165e-40ca-d8d6-8b1c2fd48dea"
      },
      "source": [
        "for index,topic in enumerate(lda.components_):\n",
        "  print(f'THE TOP 15 WORDS FOR TOPIC: {index}')\n",
        "  print([cv.get_feature_names()[i] for i in topic.argsort()[-15:]])\n",
        "  print('\\n')\n"
      ],
      "execution_count": 50,
      "outputs": [
        {
          "output_type": "stream",
          "text": [
            "THE TOP 15 WORDS FOR TOPIC: 0\n",
            "['fight', 'search', 'budget', 'west', 'qld', 'mp', 'farmers', 'cup', 'missing', 'north', 'car', 'world', 'plan', 'interview', 'says']\n",
            "\n",
            "\n",
            "THE TOP 15 WORDS FOR TOPIC: 1\n",
            "['abc', 'drug', 'gold', 'face', 'market', 'help', 'murder', 'urged', 'govt', 'coast', 'hospital', 'charged', 'death', 'man', 'police']\n",
            "\n",
            "\n",
            "THE TOP 15 WORDS FOR TOPIC: 2\n",
            "['iraq', 'inquiry', 'nt', 'act', 'china', 'rise', 'coronavirus', 'pm', 'deal', 'indigenous', 'minister', 'wins', 'health', 'council', 'australia']\n",
            "\n",
            "\n",
            "THE TOP 15 WORDS FOR TOPIC: 3\n",
            "['years', 'family', 'dies', 'woman', 'melbourne', 'sex', 'child', 'home', 'accused', 'killed', 'man', 'court', 'crash', 'sydney', 'new']\n",
            "\n",
            "\n",
            "THE TOP 15 WORDS FOR TOPIC: 4\n",
            "['school', 'final', 'national', 'open', 'year', 'claims', 'set', 'wa', 'rural', 'nsw', 'water', 'win', 'government', 'day', 'australian']\n",
            "\n",
            "\n"
          ],
          "name": "stdout"
        }
      ]
    },
    {
      "cell_type": "code",
      "metadata": {
        "colab": {
          "base_uri": "https://localhost:8080/"
        },
        "id": "RHFO116dMmdO",
        "outputId": "69568482-7c67-445d-f463-bdc43830d4c4"
      },
      "source": [
        "# Attaching Discovered topic values to Orginal Articles\n",
        "dtm.shape"
      ],
      "execution_count": 51,
      "outputs": [
        {
          "output_type": "execute_result",
          "data": {
            "text/plain": [
              "(1226258, 1000)"
            ]
          },
          "metadata": {
            "tags": []
          },
          "execution_count": 51
        }
      ]
    },
    {
      "cell_type": "code",
      "metadata": {
        "colab": {
          "base_uri": "https://localhost:8080/"
        },
        "id": "ySFJB3uUM4q1",
        "outputId": "e396cc0a-0caf-425d-bea8-95095051c373"
      },
      "source": [
        "len(npr)"
      ],
      "execution_count": 52,
      "outputs": [
        {
          "output_type": "execute_result",
          "data": {
            "text/plain": [
              "1226258"
            ]
          },
          "metadata": {
            "tags": []
          },
          "execution_count": 52
        }
      ]
    },
    {
      "cell_type": "code",
      "metadata": {
        "id": "hUJwd7HoM8qT"
      },
      "source": [
        "topic_result=lda.transform(dtm)"
      ],
      "execution_count": 53,
      "outputs": []
    },
    {
      "cell_type": "code",
      "metadata": {
        "colab": {
          "base_uri": "https://localhost:8080/"
        },
        "id": "y3uRDuqyNCxE",
        "outputId": "c21c890d-7f9d-4dae-dcf4-d48a32104945"
      },
      "source": [
        "topic_result.shape"
      ],
      "execution_count": 54,
      "outputs": [
        {
          "output_type": "execute_result",
          "data": {
            "text/plain": [
              "(1226258, 5)"
            ]
          },
          "metadata": {
            "tags": []
          },
          "execution_count": 54
        }
      ]
    },
    {
      "cell_type": "code",
      "metadata": {
        "colab": {
          "base_uri": "https://localhost:8080/"
        },
        "id": "n4Gxj-lJNHgv",
        "outputId": "6b5bcc39-4d8f-4d9c-b31d-ac459462c67c"
      },
      "source": [
        "topic_result[0]"
      ],
      "execution_count": 55,
      "outputs": [
        {
          "output_type": "execute_result",
          "data": {
            "text/plain": [
              "array([0.10000007, 0.59999725, 0.10000267, 0.10000001, 0.1       ])"
            ]
          },
          "metadata": {
            "tags": []
          },
          "execution_count": 55
        }
      ]
    },
    {
      "cell_type": "code",
      "metadata": {
        "colab": {
          "base_uri": "https://localhost:8080/"
        },
        "id": "2r6nS65UNKXJ",
        "outputId": "6026b0d8-f23c-42f8-ef39-cd4ccc2f4afc"
      },
      "source": [
        "topic_result[0].round(2)"
      ],
      "execution_count": 56,
      "outputs": [
        {
          "output_type": "execute_result",
          "data": {
            "text/plain": [
              "array([0.1, 0.6, 0.1, 0.1, 0.1])"
            ]
          },
          "metadata": {
            "tags": []
          },
          "execution_count": 56
        }
      ]
    },
    {
      "cell_type": "code",
      "metadata": {
        "colab": {
          "base_uri": "https://localhost:8080/"
        },
        "id": "hN3vtGo3NSz1",
        "outputId": "7e3657db-b2c5-451b-ef0a-9fdb19a03206"
      },
      "source": [
        "topic_result[0].argmax()"
      ],
      "execution_count": 57,
      "outputs": [
        {
          "output_type": "execute_result",
          "data": {
            "text/plain": [
              "1"
            ]
          },
          "metadata": {
            "tags": []
          },
          "execution_count": 57
        }
      ]
    },
    {
      "cell_type": "code",
      "metadata": {
        "id": "PRcnhcQqNdiP"
      },
      "source": [
        "# Combining with Orginal data"
      ],
      "execution_count": 58,
      "outputs": []
    },
    {
      "cell_type": "code",
      "metadata": {
        "colab": {
          "base_uri": "https://localhost:8080/",
          "height": 205
        },
        "id": "i3DY5KiPOLtC",
        "outputId": "360f05e9-9f33-4613-d0bf-1d3052c7fa40"
      },
      "source": [
        "npr.head()"
      ],
      "execution_count": 59,
      "outputs": [
        {
          "output_type": "execute_result",
          "data": {
            "text/html": [
              "<div>\n",
              "<style scoped>\n",
              "    .dataframe tbody tr th:only-of-type {\n",
              "        vertical-align: middle;\n",
              "    }\n",
              "\n",
              "    .dataframe tbody tr th {\n",
              "        vertical-align: top;\n",
              "    }\n",
              "\n",
              "    .dataframe thead th {\n",
              "        text-align: right;\n",
              "    }\n",
              "</style>\n",
              "<table border=\"1\" class=\"dataframe\">\n",
              "  <thead>\n",
              "    <tr style=\"text-align: right;\">\n",
              "      <th></th>\n",
              "      <th>publish_date</th>\n",
              "      <th>headline_text</th>\n",
              "    </tr>\n",
              "  </thead>\n",
              "  <tbody>\n",
              "    <tr>\n",
              "      <th>0</th>\n",
              "      <td>20030219</td>\n",
              "      <td>aba decides against community broadcasting lic...</td>\n",
              "    </tr>\n",
              "    <tr>\n",
              "      <th>1</th>\n",
              "      <td>20030219</td>\n",
              "      <td>act fire witnesses must be aware of defamation</td>\n",
              "    </tr>\n",
              "    <tr>\n",
              "      <th>2</th>\n",
              "      <td>20030219</td>\n",
              "      <td>a g calls for infrastructure protection summit</td>\n",
              "    </tr>\n",
              "    <tr>\n",
              "      <th>3</th>\n",
              "      <td>20030219</td>\n",
              "      <td>air nz staff in aust strike for pay rise</td>\n",
              "    </tr>\n",
              "    <tr>\n",
              "      <th>4</th>\n",
              "      <td>20030219</td>\n",
              "      <td>air nz strike to affect australian travellers</td>\n",
              "    </tr>\n",
              "  </tbody>\n",
              "</table>\n",
              "</div>"
            ],
            "text/plain": [
              "   publish_date                                      headline_text\n",
              "0      20030219  aba decides against community broadcasting lic...\n",
              "1      20030219     act fire witnesses must be aware of defamation\n",
              "2      20030219     a g calls for infrastructure protection summit\n",
              "3      20030219           air nz staff in aust strike for pay rise\n",
              "4      20030219      air nz strike to affect australian travellers"
            ]
          },
          "metadata": {
            "tags": []
          },
          "execution_count": 59
        }
      ]
    },
    {
      "cell_type": "code",
      "metadata": {
        "colab": {
          "base_uri": "https://localhost:8080/",
          "height": 362
        },
        "id": "qwISBty9OOGS",
        "outputId": "1a4a82dd-3773-40f7-843a-b909d355658e"
      },
      "source": [
        "topic_result.argmax(axis=1)\n",
        "npr['topic']=topic_result.argmax(axis=1)\n",
        "npr['publish_date'] = pd.to_datetime(npr['publish_date'].astype(str), format='%Y%m%d')\n",
        "npr.head(10)"
      ],
      "execution_count": 60,
      "outputs": [
        {
          "output_type": "execute_result",
          "data": {
            "text/html": [
              "<div>\n",
              "<style scoped>\n",
              "    .dataframe tbody tr th:only-of-type {\n",
              "        vertical-align: middle;\n",
              "    }\n",
              "\n",
              "    .dataframe tbody tr th {\n",
              "        vertical-align: top;\n",
              "    }\n",
              "\n",
              "    .dataframe thead th {\n",
              "        text-align: right;\n",
              "    }\n",
              "</style>\n",
              "<table border=\"1\" class=\"dataframe\">\n",
              "  <thead>\n",
              "    <tr style=\"text-align: right;\">\n",
              "      <th></th>\n",
              "      <th>publish_date</th>\n",
              "      <th>headline_text</th>\n",
              "      <th>topic</th>\n",
              "    </tr>\n",
              "  </thead>\n",
              "  <tbody>\n",
              "    <tr>\n",
              "      <th>0</th>\n",
              "      <td>2003-02-19</td>\n",
              "      <td>aba decides against community broadcasting lic...</td>\n",
              "      <td>1</td>\n",
              "    </tr>\n",
              "    <tr>\n",
              "      <th>1</th>\n",
              "      <td>2003-02-19</td>\n",
              "      <td>act fire witnesses must be aware of defamation</td>\n",
              "      <td>2</td>\n",
              "    </tr>\n",
              "    <tr>\n",
              "      <th>2</th>\n",
              "      <td>2003-02-19</td>\n",
              "      <td>a g calls for infrastructure protection summit</td>\n",
              "      <td>4</td>\n",
              "    </tr>\n",
              "    <tr>\n",
              "      <th>3</th>\n",
              "      <td>2003-02-19</td>\n",
              "      <td>air nz staff in aust strike for pay rise</td>\n",
              "      <td>4</td>\n",
              "    </tr>\n",
              "    <tr>\n",
              "      <th>4</th>\n",
              "      <td>2003-02-19</td>\n",
              "      <td>air nz strike to affect australian travellers</td>\n",
              "      <td>4</td>\n",
              "    </tr>\n",
              "    <tr>\n",
              "      <th>5</th>\n",
              "      <td>2003-02-19</td>\n",
              "      <td>ambitious olsson wins triple jump</td>\n",
              "      <td>2</td>\n",
              "    </tr>\n",
              "    <tr>\n",
              "      <th>6</th>\n",
              "      <td>2003-02-19</td>\n",
              "      <td>antic delighted with record breaking barca</td>\n",
              "      <td>0</td>\n",
              "    </tr>\n",
              "    <tr>\n",
              "      <th>7</th>\n",
              "      <td>2003-02-19</td>\n",
              "      <td>aussie qualifier stosur wastes four memphis match</td>\n",
              "      <td>3</td>\n",
              "    </tr>\n",
              "    <tr>\n",
              "      <th>8</th>\n",
              "      <td>2003-02-19</td>\n",
              "      <td>aust addresses un security council over iraq</td>\n",
              "      <td>2</td>\n",
              "    </tr>\n",
              "    <tr>\n",
              "      <th>9</th>\n",
              "      <td>2003-02-19</td>\n",
              "      <td>australia is locked into war timetable opp</td>\n",
              "      <td>2</td>\n",
              "    </tr>\n",
              "  </tbody>\n",
              "</table>\n",
              "</div>"
            ],
            "text/plain": [
              "  publish_date                                      headline_text  topic\n",
              "0   2003-02-19  aba decides against community broadcasting lic...      1\n",
              "1   2003-02-19     act fire witnesses must be aware of defamation      2\n",
              "2   2003-02-19     a g calls for infrastructure protection summit      4\n",
              "3   2003-02-19           air nz staff in aust strike for pay rise      4\n",
              "4   2003-02-19      air nz strike to affect australian travellers      4\n",
              "5   2003-02-19                  ambitious olsson wins triple jump      2\n",
              "6   2003-02-19         antic delighted with record breaking barca      0\n",
              "7   2003-02-19  aussie qualifier stosur wastes four memphis match      3\n",
              "8   2003-02-19       aust addresses un security council over iraq      2\n",
              "9   2003-02-19         australia is locked into war timetable opp      2"
            ]
          },
          "metadata": {
            "tags": []
          },
          "execution_count": 60
        }
      ]
    },
    {
      "cell_type": "code",
      "metadata": {
        "colab": {
          "base_uri": "https://localhost:8080/"
        },
        "id": "Qt8GnG9jOwzY",
        "outputId": "dd94e2bb-50b5-43fb-d383-250a1be37601"
      },
      "source": [
        "!pip install mglearn\n"
      ],
      "execution_count": 61,
      "outputs": [
        {
          "output_type": "stream",
          "text": [
            "Collecting mglearn\n",
            "\u001b[?25l  Downloading https://files.pythonhosted.org/packages/65/38/8aced26fce0b2ae82c3c87cd3b6105f38ca6d9d51704ecc44aa54473e6b9/mglearn-0.1.9.tar.gz (540kB)\n",
            "\r\u001b[K     |▋                               | 10kB 22.1MB/s eta 0:00:01\r\u001b[K     |█▏                              | 20kB 18.9MB/s eta 0:00:01\r\u001b[K     |█▉                              | 30kB 15.4MB/s eta 0:00:01\r\u001b[K     |██▍                             | 40kB 14.3MB/s eta 0:00:01\r\u001b[K     |███                             | 51kB 7.8MB/s eta 0:00:01\r\u001b[K     |███▋                            | 61kB 7.5MB/s eta 0:00:01\r\u001b[K     |████▎                           | 71kB 8.5MB/s eta 0:00:01\r\u001b[K     |████▉                           | 81kB 8.9MB/s eta 0:00:01\r\u001b[K     |█████▌                          | 92kB 9.3MB/s eta 0:00:01\r\u001b[K     |██████                          | 102kB 7.5MB/s eta 0:00:01\r\u001b[K     |██████▊                         | 112kB 7.5MB/s eta 0:00:01\r\u001b[K     |███████▎                        | 122kB 7.5MB/s eta 0:00:01\r\u001b[K     |███████▉                        | 133kB 7.5MB/s eta 0:00:01\r\u001b[K     |████████▌                       | 143kB 7.5MB/s eta 0:00:01\r\u001b[K     |█████████                       | 153kB 7.5MB/s eta 0:00:01\r\u001b[K     |█████████▊                      | 163kB 7.5MB/s eta 0:00:01\r\u001b[K     |██████████▎                     | 174kB 7.5MB/s eta 0:00:01\r\u001b[K     |███████████                     | 184kB 7.5MB/s eta 0:00:01\r\u001b[K     |███████████▌                    | 194kB 7.5MB/s eta 0:00:01\r\u001b[K     |████████████▏                   | 204kB 7.5MB/s eta 0:00:01\r\u001b[K     |████████████▊                   | 215kB 7.5MB/s eta 0:00:01\r\u001b[K     |█████████████▍                  | 225kB 7.5MB/s eta 0:00:01\r\u001b[K     |██████████████                  | 235kB 7.5MB/s eta 0:00:01\r\u001b[K     |██████████████▋                 | 245kB 7.5MB/s eta 0:00:01\r\u001b[K     |███████████████▏                | 256kB 7.5MB/s eta 0:00:01\r\u001b[K     |███████████████▊                | 266kB 7.5MB/s eta 0:00:01\r\u001b[K     |████████████████▍               | 276kB 7.5MB/s eta 0:00:01\r\u001b[K     |█████████████████               | 286kB 7.5MB/s eta 0:00:01\r\u001b[K     |█████████████████▋              | 296kB 7.5MB/s eta 0:00:01\r\u001b[K     |██████████████████▏             | 307kB 7.5MB/s eta 0:00:01\r\u001b[K     |██████████████████▉             | 317kB 7.5MB/s eta 0:00:01\r\u001b[K     |███████████████████▍            | 327kB 7.5MB/s eta 0:00:01\r\u001b[K     |████████████████████            | 337kB 7.5MB/s eta 0:00:01\r\u001b[K     |████████████████████▋           | 348kB 7.5MB/s eta 0:00:01\r\u001b[K     |█████████████████████▎          | 358kB 7.5MB/s eta 0:00:01\r\u001b[K     |█████████████████████▉          | 368kB 7.5MB/s eta 0:00:01\r\u001b[K     |██████████████████████▌         | 378kB 7.5MB/s eta 0:00:01\r\u001b[K     |███████████████████████         | 389kB 7.5MB/s eta 0:00:01\r\u001b[K     |███████████████████████▋        | 399kB 7.5MB/s eta 0:00:01\r\u001b[K     |████████████████████████▎       | 409kB 7.5MB/s eta 0:00:01\r\u001b[K     |████████████████████████▉       | 419kB 7.5MB/s eta 0:00:01\r\u001b[K     |█████████████████████████▌      | 430kB 7.5MB/s eta 0:00:01\r\u001b[K     |██████████████████████████      | 440kB 7.5MB/s eta 0:00:01\r\u001b[K     |██████████████████████████▊     | 450kB 7.5MB/s eta 0:00:01\r\u001b[K     |███████████████████████████▎    | 460kB 7.5MB/s eta 0:00:01\r\u001b[K     |████████████████████████████    | 471kB 7.5MB/s eta 0:00:01\r\u001b[K     |████████████████████████████▌   | 481kB 7.5MB/s eta 0:00:01\r\u001b[K     |█████████████████████████████▏  | 491kB 7.5MB/s eta 0:00:01\r\u001b[K     |█████████████████████████████▊  | 501kB 7.5MB/s eta 0:00:01\r\u001b[K     |██████████████████████████████▍ | 512kB 7.5MB/s eta 0:00:01\r\u001b[K     |███████████████████████████████ | 522kB 7.5MB/s eta 0:00:01\r\u001b[K     |███████████████████████████████▌| 532kB 7.5MB/s eta 0:00:01\r\u001b[K     |████████████████████████████████| 542kB 7.5MB/s \n",
            "\u001b[?25hRequirement already satisfied: numpy in /usr/local/lib/python3.7/dist-packages (from mglearn) (1.19.5)\n",
            "Requirement already satisfied: matplotlib in /usr/local/lib/python3.7/dist-packages (from mglearn) (3.2.2)\n",
            "Requirement already satisfied: scikit-learn in /usr/local/lib/python3.7/dist-packages (from mglearn) (0.22.2.post1)\n",
            "Requirement already satisfied: pandas in /usr/local/lib/python3.7/dist-packages (from mglearn) (1.1.5)\n",
            "Requirement already satisfied: pillow in /usr/local/lib/python3.7/dist-packages (from mglearn) (7.1.2)\n",
            "Requirement already satisfied: cycler in /usr/local/lib/python3.7/dist-packages (from mglearn) (0.10.0)\n",
            "Requirement already satisfied: imageio in /usr/local/lib/python3.7/dist-packages (from mglearn) (2.4.1)\n",
            "Requirement already satisfied: joblib in /usr/local/lib/python3.7/dist-packages (from mglearn) (1.0.1)\n",
            "Requirement already satisfied: pyparsing!=2.0.4,!=2.1.2,!=2.1.6,>=2.0.1 in /usr/local/lib/python3.7/dist-packages (from matplotlib->mglearn) (2.4.7)\n",
            "Requirement already satisfied: python-dateutil>=2.1 in /usr/local/lib/python3.7/dist-packages (from matplotlib->mglearn) (2.8.1)\n",
            "Requirement already satisfied: kiwisolver>=1.0.1 in /usr/local/lib/python3.7/dist-packages (from matplotlib->mglearn) (1.3.1)\n",
            "Requirement already satisfied: scipy>=0.17.0 in /usr/local/lib/python3.7/dist-packages (from scikit-learn->mglearn) (1.4.1)\n",
            "Requirement already satisfied: pytz>=2017.2 in /usr/local/lib/python3.7/dist-packages (from pandas->mglearn) (2018.9)\n",
            "Requirement already satisfied: six in /usr/local/lib/python3.7/dist-packages (from cycler->mglearn) (1.15.0)\n",
            "Building wheels for collected packages: mglearn\n",
            "  Building wheel for mglearn (setup.py) ... \u001b[?25l\u001b[?25hdone\n",
            "  Created wheel for mglearn: filename=mglearn-0.1.9-py2.py3-none-any.whl size=582638 sha256=d5ec7275669e8f4e9a3253365a1d31d5433d93d91343a2e5cb025b9e64045333\n",
            "  Stored in directory: /root/.cache/pip/wheels/eb/a6/ea/a6a3716233fa62fc561259b5cb1e28f79e9ff3592c0adac5f0\n",
            "Successfully built mglearn\n",
            "Installing collected packages: mglearn\n",
            "Successfully installed mglearn-0.1.9\n"
          ],
          "name": "stdout"
        }
      ]
    },
    {
      "cell_type": "code",
      "metadata": {
        "id": "W9fER_RNQd2j"
      },
      "source": [
        "import mglearn as mg\n",
        "import numpy as np\n"
      ],
      "execution_count": 62,
      "outputs": []
    },
    {
      "cell_type": "code",
      "metadata": {
        "id": "_HheSdb2QnWM"
      },
      "source": [
        "sorting =np.argsort(lda.components_)[:,::-1]"
      ],
      "execution_count": 63,
      "outputs": []
    },
    {
      "cell_type": "code",
      "metadata": {
        "id": "LAfVpdaPQrR-"
      },
      "source": [
        "features=np.array(cv.get_feature_names())"
      ],
      "execution_count": 64,
      "outputs": []
    },
    {
      "cell_type": "code",
      "metadata": {
        "colab": {
          "base_uri": "https://localhost:8080/"
        },
        "id": "u2DFCsS1QJZq",
        "outputId": "235f9586-a504-4b60-c3b3-47cb315c674b"
      },
      "source": [
        "mg.tools.print_topics(topics=range(5),feature_names=features,sorting = sorting,topics_per_chunk=5,n_words=25)"
      ],
      "execution_count": 65,
      "outputs": [
        {
          "output_type": "stream",
          "text": [
            "topic 0       topic 1       topic 2       topic 3       topic 4       \n",
            "--------      --------      --------      --------      --------      \n",
            "says          police        australia     new           australian    \n",
            "interview     man           council       sydney        day           \n",
            "plan          death         health        crash         government    \n",
            "world         charged       wins          court         win           \n",
            "car           hospital      minister      man           water         \n",
            "north         coast         indigenous    killed        nsw           \n",
            "missing       govt          deal          accused       rural         \n",
            "cup           urged         pm            home          wa            \n",
            "farmers       murder        coronavirus   child         set           \n",
            "mp            help          rise          sex           claims        \n",
            "qld           market        china         melbourne     year          \n",
            "west          face          act           woman         open          \n",
            "budget        gold          nt            dies          national      \n",
            "search        drug          inquiry       family        final         \n",
            "fight         abc           iraq          years         school        \n",
            "residents     trial         group         perth         queensland    \n",
            "union         case          concerns      guilty        test          \n",
            "state         court         calls         gets          work          \n",
            "tax           probe         defends       change        election      \n",
            "say           country       return        report        power         \n",
            "backs         attack        fears         assault       opposition    \n",
            "lead          takes         ahead         road          labor         \n",
            "rain          community     chief         driver        talks         \n",
            "mining        trump         security      mayor         port          \n",
            "cuts          vic           farm          appeal        end           \n",
            "\n",
            "\n"
          ],
          "name": "stdout"
        }
      ]
    },
    {
      "cell_type": "code",
      "metadata": {
        "id": "Y9VwuXJ2QYRz"
      },
      "source": [
        ""
      ],
      "execution_count": 65,
      "outputs": []
    }
  ]
}